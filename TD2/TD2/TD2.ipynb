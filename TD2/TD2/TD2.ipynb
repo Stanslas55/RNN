{
 "cells": [
  {
   "cell_type": "code",
   "execution_count": 1,
   "metadata": {},
   "outputs": [],
   "source": [
    "def print_reseau(reseau):  \n",
    "    if not isinstance(reseau,tuple):\n",
    "         raise TypeError(\"Entrez un reseau valide !\")            \n",
    "    print(\"Votre réseau : (a,b,c,d) = ({},{},{},{})\".format(reseau[0], reseau[1], reseau[2], reseau[3]))\n"
   ]
  },
  {
   "cell_type": "code",
   "execution_count": 2,
   "metadata": {},
   "outputs": [],
   "source": [
    "# Activation synchrone\n",
    "def synchrone(initial):\n",
    "    # Ici on test si il y a des erreurs\n",
    "    if not isinstance(initial,tuple) or len(initial) != 4:\n",
    "         raise TypeError(\"Entrez un reseau valide !\")  \n",
    "    print_reseau(initial)\n",
    "    suivant = []\n",
    "    nouvelle = 0\n",
    "    for cellule_suivante in range(4):\n",
    "        nouvelle = 0\n",
    "        #print(\"On s'occupe de la cellule {}\".format(affichage[cellule_suivante]))\n",
    "        for cellule_actuelle in range(len(initial)):             \n",
    "            if cellule_suivante != cellule_actuelle:  \n",
    "                #print(\"\\t{} -> {}, on ajoute {} * {}\".format(affichage[cellule_actuelle], affichage[cellule_suivante], initial[cellule_actuelle], poids[cellule_suivante][cellule_actuelle] ))\n",
    "                nouvelle += initial[cellule_actuelle] * poids[cellule_suivante][cellule_actuelle]\n",
    "        suivant.append(nouvelle)\n",
    "    suivant = [1 if i > 0 else 0 for i in suivant]\n",
    "   \n",
    "    return tuple(suivant)\n"
   ]
  },
  {
   "cell_type": "code",
   "execution_count": 3,
   "metadata": {},
   "outputs": [],
   "source": [
    "# Dectecte un état stable (cycle de taille 1) ou un cycle de taille 2, pour une configuration donnée en synchrone\n",
    "def test_synchrone(reseau):\n",
    "    reseau_actuel = reseau\n",
    "    reseau_suivant = synchrone(reseau_actuel)\n",
    "\n",
    "    sauvegarde = [reseau_suivant, reseau_actuel, (0)]\n",
    "\n",
    "    while reseau_actuel != reseau_suivant:   \n",
    "\n",
    "        sauvegarde[2] = reseau_actuel\n",
    "        reseau_actuel = reseau_suivant\n",
    "\n",
    "        sauvegarde[1] = reseau_actuel\n",
    "        reseau_suivant = synchrone(reseau_actuel)  \n",
    "        sauvegarde[0] = reseau_suivant\n",
    "\n",
    "        #print(sauvegarde)\n",
    "        if(sauvegarde[0] == sauvegarde[2]): \n",
    "            print(\"On a atteint un cycle de 2 : {} -> {}\".format(sauvegarde[0], sauvegarde[1]))\n",
    "            break"
   ]
  },
  {
   "cell_type": "code",
   "execution_count": 4,
   "metadata": {},
   "outputs": [],
   "source": [
    "# Activation synchrone\n",
    "def asynchrone(initial):\n",
    "    if not isinstance(initial,tuple) or len(initial) != 4:\n",
    "         raise TypeError(\"Entrez un reseau valide !\")  \n",
    "    print_reseau(initial) \n",
    "    initial = list(initial)\n",
    "    nouvelle = 0\n",
    "    for cellule_suivante in range(4):\n",
    "        nouvelle = 0\n",
    "        #print(\"On s'occupe de la cellule {}\".format(affichage[cellule_suivante]))\n",
    "        #print(\"initial vaut {}\".format(initial))\n",
    "        for cellule_actuelle in range(len(initial)): \n",
    "            \n",
    "            if cellule_suivante != cellule_actuelle:  \n",
    "                #print(\"\\t{} -> {}, on ajoute {} * {}\".format(affichage[cellule_actuelle], affichage[cellule_suivante], initial[cellule_actuelle], poids[cellule_suivante][cellule_actuelle] ))\n",
    "                nouvelle += initial[cellule_actuelle] * poids[cellule_suivante][cellule_actuelle]\n",
    "        initial[cellule_suivante] = 1 if nouvelle > 0 else 0\n",
    "        \n",
    "    #initial = [1 if i > 0 else 0 for i in initial]\n",
    "    return tuple(initial)"
   ]
  },
  {
   "cell_type": "code",
   "execution_count": 5,
   "metadata": {},
   "outputs": [],
   "source": [
    "# Dectecte un état stable (cycle de taille 1) ou un cycle de taille 2, pour une configuration donnée en asynchrone\n",
    "def test_asynchrone(reseau):\n",
    "    reseau_actuel = reseau\n",
    "    reseau_suivant = asynchrone(reseau_actuel)\n",
    "\n",
    "    sauvegarde = [reseau_suivant, reseau_actuel, (0)]\n",
    "\n",
    "\n",
    "    while reseau_actuel != reseau_suivant:   \n",
    "\n",
    "        sauvegarde[2] = reseau_actuel\n",
    "        reseau_actuel = reseau_suivant\n",
    "\n",
    "        sauvegarde[1] = reseau_actuel\n",
    "        reseau_suivant = asynchrone(reseau_actuel)  \n",
    "        sauvegarde[0] = reseau_suivant\n",
    "\n",
    "        #print(sauvegarde)\n",
    "        if(sauvegarde[0] == sauvegarde[2]): \n",
    "            print(\"On a atteint un cycle de 2 : {} -> {}\".format(sauvegarde[0], sauvegarde[1]))\n",
    "            break"
   ]
  },
  {
   "cell_type": "code",
   "execution_count": 6,
   "metadata": {},
   "outputs": [],
   "source": [
    "def a_la_main():\n",
    "    # Ici on récupère les entrées du réseau\n",
    "    a = int(input(\"a = ? \"))\n",
    "    b = int(input(\"b = ? \"))\n",
    "    c = int(input(\"c = ? \"))\n",
    "    d = int(input(\"d = ? \"))\n",
    "    \n",
    "    reseau = (a,b,c,d)\n",
    "    print_reseau(reseau)\n",
    "    \n",
    "    print(\"En synchrone\")\n",
    "    test_synchrone(reseau)\n",
    "    \n",
    "    print(\"En asynchrone\")\n",
    "    test_asynchrone(reseau)"
   ]
  },
  {
   "cell_type": "code",
   "execution_count": 11,
   "metadata": {},
   "outputs": [],
   "source": [
    "def toutes_les_combinaisons_synchrones():\n",
    "    \n",
    "    print(\"Les combinaisons en synchrone\")\n",
    "    for combi in combinaisons:\n",
    "        test_synchrone(combi)\n",
    "        print(\"\\n\")\n",
    "def toutes_les_combinaisons_asynchrones():   \n",
    "    print(\"Les combinaisons en asynchrone\")\n",
    "    for combi in combinaisons:\n",
    "        test_asynchrone(combi)\n",
    "        print(\"\\n\")"
   ]
  },
  {
   "cell_type": "code",
   "execution_count": 12,
   "metadata": {},
   "outputs": [],
   "source": [
    "# Ici on créer la matrice de poids\n",
    "affichage = {0:\"a\", 1:\"b\", 2:\"c\", 3:\"d\"}\n",
    "poids = [[0,-1,1,1],\n",
    "         [-1,0,1,-1],\n",
    "         [1,1,0,1],\n",
    "         [1,-1,1,0]]\n",
    "\n",
    "'''poids = [[0, 1,1,1],\n",
    "         [-1,0,1,-1],\n",
    "         [-1,1,0,1],\n",
    "         [-1,1,1,0]]'''\n",
    "combinaisons = [(0,0,0,0), (0,0,0,1), \n",
    "                    (0,0,1,0), (0,0,1,1), \n",
    "                    (0,1,0,0), (0,1,0,1), (0,1,1,0), (0,1,1,1),\n",
    "                   (1,0,0,0), (1,0,0,1), (1,0,1,0), (1,0,1,1), (1,1,0,0), (1,1,0,1), (1,1,1,0), (1,1,1,1),]"
   ]
  },
  {
   "cell_type": "code",
   "execution_count": 13,
   "metadata": {},
   "outputs": [
    {
     "name": "stdout",
     "output_type": "stream",
     "text": [
      "Votre réseau : (a,b,c,d) = (1,1,0,1)\n",
      "(0, 0, 1, 0)\n",
      "Votre réseau : (a,b,c,d) = (0,0,1,0)\n",
      "(1, 1, 0, 1)\n"
     ]
    }
   ],
   "source": [
    "# Exemple de cycle de taille 2 en synchrone\n",
    "print(synchrone((1,1,0,1)))\n",
    "print(synchrone((0,0,1,0)))"
   ]
  },
  {
   "cell_type": "code",
   "execution_count": 14,
   "metadata": {},
   "outputs": [
    {
     "name": "stdout",
     "output_type": "stream",
     "text": [
      "Votre réseau : (a,b,c,d) = (0,0,1,0)\n",
      "(1, 0, 1, 1)\n"
     ]
    }
   ],
   "source": [
    "# Exemple de cycle asynchrone\n",
    "print(asynchrone((0,0,1,0)))"
   ]
  },
  {
   "cell_type": "code",
   "execution_count": 15,
   "metadata": {},
   "outputs": [
    {
     "name": "stdout",
     "output_type": "stream",
     "text": [
      "Votre réseau : (a,b,c,d) = (0,0,1,0)\n",
      "(1, 0, 1, 1)\n"
     ]
    }
   ],
   "source": [
    "print(asynchrone((0,0,1,0)))"
   ]
  },
  {
   "cell_type": "code",
   "execution_count": 16,
   "metadata": {},
   "outputs": [
    {
     "name": "stdin",
     "output_type": "stream",
     "text": [
      "a = ?  0\n",
      "b = ?  0\n",
      "c = ?  1\n",
      "d = ?  0\n"
     ]
    },
    {
     "name": "stdout",
     "output_type": "stream",
     "text": [
      "Votre réseau : (a,b,c,d) = (0,0,1,0)\n",
      "En synchrone\n",
      "Votre réseau : (a,b,c,d) = (0,0,1,0)\n",
      "Votre réseau : (a,b,c,d) = (1,1,0,1)\n",
      "On a atteint un cycle de 2 : (0, 0, 1, 0) -> (1, 1, 0, 1)\n",
      "En asynchrone\n",
      "Votre réseau : (a,b,c,d) = (0,0,1,0)\n",
      "Votre réseau : (a,b,c,d) = (1,0,1,1)\n"
     ]
    }
   ],
   "source": [
    "a_la_main()"
   ]
  },
  {
   "cell_type": "code",
   "execution_count": 18,
   "metadata": {},
   "outputs": [
    {
     "name": "stdout",
     "output_type": "stream",
     "text": [
      "Votre réseau : (a,b,c,d) = (0,0,1,1)\n",
      "Votre réseau : (a,b,c,d) = (1,0,1,1)\n"
     ]
    }
   ],
   "source": [
    "test_synchrone((0,0,1,1))"
   ]
  },
  {
   "cell_type": "code",
   "execution_count": 345,
   "metadata": {},
   "outputs": [
    {
     "name": "stdout",
     "output_type": "stream",
     "text": [
      "Les combinaisons en synchrone\n",
      "Votre réseau : (a,b,c,d) = (0,0,0,0)\n",
      "\n",
      "\n",
      "Votre réseau : (a,b,c,d) = (0,0,0,1)\n",
      "Votre réseau : (a,b,c,d) = (1,0,1,0)\n",
      "Votre réseau : (a,b,c,d) = (1,0,1,1)\n",
      "\n",
      "\n",
      "Votre réseau : (a,b,c,d) = (0,0,1,0)\n",
      "Votre réseau : (a,b,c,d) = (1,1,0,1)\n",
      "On a atteint un cycle de 2 : (0, 0, 1, 0) -> (1, 1, 0, 1)\n",
      "\n",
      "\n",
      "Votre réseau : (a,b,c,d) = (0,0,1,1)\n",
      "Votre réseau : (a,b,c,d) = (1,0,1,1)\n",
      "\n",
      "\n",
      "Votre réseau : (a,b,c,d) = (0,1,0,0)\n",
      "Votre réseau : (a,b,c,d) = (0,0,1,0)\n",
      "Votre réseau : (a,b,c,d) = (1,1,0,1)\n",
      "On a atteint un cycle de 2 : (0, 0, 1, 0) -> (1, 1, 0, 1)\n",
      "\n",
      "\n",
      "Votre réseau : (a,b,c,d) = (0,1,0,1)\n",
      "Votre réseau : (a,b,c,d) = (0,0,1,0)\n",
      "Votre réseau : (a,b,c,d) = (1,1,0,1)\n",
      "On a atteint un cycle de 2 : (0, 0, 1, 0) -> (1, 1, 0, 1)\n",
      "\n",
      "\n",
      "Votre réseau : (a,b,c,d) = (0,1,1,0)\n",
      "\n",
      "\n",
      "Votre réseau : (a,b,c,d) = (0,1,1,1)\n",
      "Votre réseau : (a,b,c,d) = (1,0,1,0)\n",
      "Votre réseau : (a,b,c,d) = (1,0,1,1)\n",
      "\n",
      "\n",
      "Votre réseau : (a,b,c,d) = (1,0,0,0)\n",
      "Votre réseau : (a,b,c,d) = (0,0,1,1)\n",
      "Votre réseau : (a,b,c,d) = (1,0,1,1)\n",
      "\n",
      "\n",
      "Votre réseau : (a,b,c,d) = (1,0,0,1)\n",
      "Votre réseau : (a,b,c,d) = (1,0,1,1)\n",
      "\n",
      "\n",
      "Votre réseau : (a,b,c,d) = (1,0,1,0)\n",
      "Votre réseau : (a,b,c,d) = (1,0,1,1)\n",
      "\n",
      "\n",
      "Votre réseau : (a,b,c,d) = (1,0,1,1)\n",
      "\n",
      "\n",
      "Votre réseau : (a,b,c,d) = (1,1,0,0)\n",
      "Votre réseau : (a,b,c,d) = (0,0,1,0)\n",
      "Votre réseau : (a,b,c,d) = (1,1,0,1)\n",
      "On a atteint un cycle de 2 : (0, 0, 1, 0) -> (1, 1, 0, 1)\n",
      "\n",
      "\n",
      "Votre réseau : (a,b,c,d) = (1,1,0,1)\n",
      "Votre réseau : (a,b,c,d) = (0,0,1,0)\n",
      "On a atteint un cycle de 2 : (1, 1, 0, 1) -> (0, 0, 1, 0)\n",
      "\n",
      "\n",
      "Votre réseau : (a,b,c,d) = (1,1,1,0)\n",
      "Votre réseau : (a,b,c,d) = (0,0,1,1)\n",
      "Votre réseau : (a,b,c,d) = (1,0,1,1)\n",
      "\n",
      "\n",
      "Votre réseau : (a,b,c,d) = (1,1,1,1)\n",
      "Votre réseau : (a,b,c,d) = (1,0,1,1)\n",
      "\n",
      "\n"
     ]
    }
   ],
   "source": [
    "toutes_les_combinaisons_synchrones()"
   ]
  },
  {
   "cell_type": "code",
   "execution_count": 346,
   "metadata": {},
   "outputs": [
    {
     "name": "stdout",
     "output_type": "stream",
     "text": [
      "Les combinaisons en asynchrone\n",
      "Votre réseau : (a,b,c,d) = (0,0,0,0)\n",
      "\n",
      "\n",
      "Votre réseau : (a,b,c,d) = (0,0,0,1)\n",
      "Votre réseau : (a,b,c,d) = (1,0,1,1)\n",
      "\n",
      "\n",
      "Votre réseau : (a,b,c,d) = (0,0,1,0)\n",
      "Votre réseau : (a,b,c,d) = (1,0,1,1)\n",
      "\n",
      "\n",
      "Votre réseau : (a,b,c,d) = (0,0,1,1)\n",
      "Votre réseau : (a,b,c,d) = (1,0,1,1)\n",
      "\n",
      "\n",
      "Votre réseau : (a,b,c,d) = (0,1,0,0)\n",
      "Votre réseau : (a,b,c,d) = (0,0,0,0)\n",
      "\n",
      "\n",
      "Votre réseau : (a,b,c,d) = (0,1,0,1)\n",
      "Votre réseau : (a,b,c,d) = (0,0,1,1)\n",
      "Votre réseau : (a,b,c,d) = (1,0,1,1)\n",
      "\n",
      "\n",
      "Votre réseau : (a,b,c,d) = (0,1,1,0)\n",
      "\n",
      "\n",
      "Votre réseau : (a,b,c,d) = (0,1,1,1)\n",
      "Votre réseau : (a,b,c,d) = (1,0,1,1)\n",
      "\n",
      "\n",
      "Votre réseau : (a,b,c,d) = (1,0,0,0)\n",
      "Votre réseau : (a,b,c,d) = (0,0,0,0)\n",
      "\n",
      "\n",
      "Votre réseau : (a,b,c,d) = (1,0,0,1)\n",
      "Votre réseau : (a,b,c,d) = (1,0,1,1)\n",
      "\n",
      "\n",
      "Votre réseau : (a,b,c,d) = (1,0,1,0)\n",
      "Votre réseau : (a,b,c,d) = (1,0,1,1)\n",
      "\n",
      "\n",
      "Votre réseau : (a,b,c,d) = (1,0,1,1)\n",
      "\n",
      "\n",
      "Votre réseau : (a,b,c,d) = (1,1,0,0)\n",
      "Votre réseau : (a,b,c,d) = (0,0,0,0)\n",
      "\n",
      "\n",
      "Votre réseau : (a,b,c,d) = (1,1,0,1)\n",
      "Votre réseau : (a,b,c,d) = (0,0,1,1)\n",
      "Votre réseau : (a,b,c,d) = (1,0,1,1)\n",
      "\n",
      "\n",
      "Votre réseau : (a,b,c,d) = (1,1,1,0)\n",
      "Votre réseau : (a,b,c,d) = (0,1,1,0)\n",
      "\n",
      "\n",
      "Votre réseau : (a,b,c,d) = (1,1,1,1)\n",
      "Votre réseau : (a,b,c,d) = (1,0,1,1)\n",
      "\n",
      "\n"
     ]
    }
   ],
   "source": [
    "toutes_les_combinaisons_asynchrones()"
   ]
  }
 ],
 "metadata": {
  "kernelspec": {
   "display_name": "Python 3",
   "language": "python",
   "name": "python3"
  },
  "language_info": {
   "codemirror_mode": {
    "name": "ipython",
    "version": 3
   },
   "file_extension": ".py",
   "mimetype": "text/x-python",
   "name": "python",
   "nbconvert_exporter": "python",
   "pygments_lexer": "ipython3",
   "version": "3.7.6"
  }
 },
 "nbformat": 4,
 "nbformat_minor": 4
}
