{
 "cells": [
  {
   "cell_type": "code",
   "execution_count": 1,
   "metadata": {},
   "outputs": [
    {
     "name": "stdout",
     "output_type": "stream",
     "text": [
      "fitness: 4574 : ['Rennes', 'Rouen', 'Paris', 'Reims', 'Strasbourg', 'Toulouse', 'Nantes', 'Lyon', 'Monaco', 'Nice', 'Marseille', 'Limoges']\n",
      "fitness: 3634 : ['Rennes', 'Rouen', 'Paris', 'Reims', 'Strasbourg', 'Toulouse', 'Marseille', 'Nice', 'Monaco', 'Lyon', 'Limoges', 'Nantes']\n",
      "Un bon itinéraire pour minimiser la distance parcourue serait :  Rennes -> Rouen -> Paris -> Reims -> Strasbourg -> Toulouse -> Marseille -> Nice -> Monaco -> Lyon -> Limoges -> Nantes -> Rennes\n"
     ]
    }
   ],
   "source": [
    "def generer_individu(taille):\n",
    "    chemin = []\n",
    "    for i in range(taille):\n",
    "        ville = random.choice(villes)        \n",
    "        while(ville in chemin):\n",
    "            ville = random.choice(villes)            \n",
    "        chemin.append(ville)    \n",
    "    return chemin\n",
    "\n",
    "def generer_population(taille, nb_chromosomes):\n",
    "    pop = []\n",
    "    for i in range(taille):\n",
    "        pop.append(generer_individu(nb_chromosomes))        \n",
    "    return pop\n",
    "\n",
    "def indices_chromosomes(individu):\n",
    "    indices_chemin = []\n",
    "    for ville in individu:  \n",
    "        indices_chemin.append(indice_villes[ville])  \n",
    "    return indices_chemin\n",
    "\n",
    "def fitness(individu):       \n",
    "    indices_chemin = indices_chromosomes(individu)    \n",
    "    fitness = 0    \n",
    "    for i in range(nb_villes - 1):          \n",
    "        fitness += d_villes[indices_chemin[i]][indices_chemin[i+1]]    \n",
    "    fitness +=  d_villes[indices_chemin[i+1]][indices_chemin[0]]\n",
    "    return fitness\n",
    "   \n",
    "#Meilleur individu de tous les temps            \n",
    "def meilleur_individu(popu, best):\n",
    "    actuel = best\n",
    "   \n",
    "    for individu in popu:                      \n",
    "        if(fitness(individu) < fitness(actuel):           \n",
    "            actuel = individu\n",
    "    return actuel\n",
    "\n",
    "#croisement entre deux individus\n",
    "def croisement(couple):   \n",
    "    \n",
    "    taille_f1 = int(nb_villes / 2)\n",
    "   \n",
    "    fils1 = []\n",
    "    fils2 = []\n",
    "    for i in range(taille_f1):        \n",
    "        fils1.append(couple[0][i])  \n",
    "        fils2.append(couple[1][i])\n",
    "\n",
    "    for j in range(nb_villes):\n",
    "        if(couple[1][j] not in fils1):\n",
    "            fils1.append(couple[1][j])\n",
    "        if(couple[0][j] not in fils2):\n",
    "            fils2.append(couple[0][j])\n",
    "            \n",
    "       \n",
    "    enfants = [fils1, fils2]    \n",
    "    #print(\"enfant 1 : {}\\nenfant 2 : {}\\n\".format(enfants[0], enfants[1]))\n",
    "    return enfants\n",
    "\n",
    "#mutation sur deux individus\n",
    "def mutation(couple):\n",
    "    for i in range (0,2):\n",
    "        if(random.randint(0, 100) <= chance_mutation):\n",
    "            random1 = random.randint(0, nb_villes-1)\n",
    "            random2 = random.randint(0, nb_villes-2)\n",
    "           \n",
    "            print(random1, random2)\n",
    "            \n",
    "            couple[i][random1],couple[i][random2] = couple[i][random2],couple[i][random1]               \n",
    "      \n",
    "    return couple\n",
    "\n",
    "#Donne un individu parmis les deux\n",
    "def compareRandomIndividu(I1, I2):\n",
    "    if(fitness(I1) > fitness(I2)):\n",
    "        MAX = I1\n",
    "        MIN = I2\n",
    "    else:\n",
    "        MAX = I2\n",
    "        MIN = I1\n",
    "    #choix de l'individu avec pression de selection\n",
    "    if(random.randint(0, 100) <= pression_evolutive):\n",
    "        return MIN\n",
    "    else:\n",
    "        return MAX\n",
    "\n",
    "#Selection par tournois\n",
    "def getNewPop(pop):\n",
    "    #tableau vide newPop\n",
    "    newPop = [[] for _ in range(taille_population)]\n",
    "    #on génère les individus 2 par 2 => POP_SIZE / 2 itération\n",
    "    for i in range (0,int(taille_population / 2)):\n",
    "        #on confronte 2 individus pour en garder 1\n",
    "        A = pop[random.randint(0, taille_population - 1)]\n",
    "        B = pop[random.randint(0, taille_population - 1)]\n",
    "        while (A is B):\n",
    "            B = pop[random.randint(0, taille_population - 1)]\n",
    "        I1 = compareRandomIndividu(A, B)\n",
    "        \n",
    "        #la même chose\n",
    "        A = pop[random.randint(0, taille_population - 1)]\n",
    "        B = pop[random.randint(0, taille_population - 1)]\n",
    "        while (A is B):\n",
    "            B = pop[random.randint(0, taille_population - 1)]\n",
    "        I2 = compareRandomIndividu(A, B)\n",
    "        \n",
    "        couple = [I1,I2]\n",
    "\n",
    "        if(random.randint(0, 100) <= chances_croisement):\n",
    "            couple = croisement(couple)\n",
    "            \n",
    "        # Je choisi de ne pas faire de mutations dans ce code\n",
    "        #couple = mutation(couple)\n",
    "        \n",
    "        newPop[i] = couple[0]\n",
    "        newPop[taille_population - 1 - i] = couple[1]\n",
    "    return newPop\n",
    "                 \n",
    "\n",
    "import random\n",
    "\n",
    "villes = [\"Limoges\", \"Lyon\", \"Marseille\", \"Monaco\", \"Nantes\", \"Nice\", \"Paris\", \"Reims\", \"Rennes\", \"Rouen\", \"Strasbourg\", \"Toulouse\"]\n",
    "indice_villes = {'Limoges': 0, 'Lyon': 1, 'Marseille': 2, 'Monaco': 3, 'Nantes': 4, 'Nice': 5, 'Paris': 6, 'Reims': 7, 'Rennes': 8, 'Rouen': 9, 'Strasbourg': 10, 'Toulouse': 11}\n",
    "d_villes = [\n",
    " [0, 366, 609, 797, 300, 776, 369, 514, 372, 444, 690, 324], \n",
    " [366, 0, 326, 425, 598, 404, 462, 473, 640, 591, 434, 506], \n",
    " [609, 326, 0, 206, 909, 185, 772, 799, 958, 898, 769, 407], \n",
    " [797, 425, 206, 0, 1069, 21, 915, 873, 1065, 1015, 824, 586], \n",
    " [300, 598, 909, 1069, 0, 1048, 379, 549, 106, 357, 795, 540], \n",
    " [776, 404, 185, 21, 1048, 0, 894, 852, 1044, 995, 803, 565], \n",
    " [369, 462, 772, 915, 379, 894, 0, 147, 331, 117, 442, 678], \n",
    " [514, 473, 799, 873, 549, 852, 147, 0, 498, 233, 330, 824], \n",
    " [372, 640, 958, 1065, 106, 1044, 331, 498, 0, 290, 771, 652], \n",
    " [444, 591, 898, 1015, 357, 995, 117, 233, 290, 0, 566, 768], \n",
    " [690, 434, 769, 824, 795, 803, 442, 330, 771, 566, 0, 940], \n",
    " [324, 506, 407, 586, 540, 565, 678, 824, 652, 768, 940, 0]]\n",
    "\n",
    "temps_stations =  [\n",
    "    [0, 6.7, 7.3, 2.5, 2.9, 1.5, 6.8, 8.4, 2.9, 4.0, 9.0, 9.4, 9.7, 1.0, 1.8, 5.9, 2.7, 8.7, 3.9, 7.1], \n",
    "    [1.8, 0, 5.1, 4.5, 5.0, 8.0, 9.2, 9.8, 5.9, 4.7, 6.3, 4.4, 9.2, 6.2, 3.6, 3.7, 4.8, 6.7, 3.6, 8.3], \n",
    "    [2.2, 7.0, 0, 9.4, 5.7, 9.4, 5.9, 6.4, 2.8, 4.1, 9.0, 8.9, 8.2, 8.4, 6.8, 2.9, 1.0, 7.7, 5.6, 6.6], \n",
    "    [8.9, 5.2, 1.9, 0, 8.6, 6.8, 1.2, 2.3, 9.2, 7.2, 8.9, 4.5, 9.2, 8.1, 6.2, 9.4, 7.1, 6.7, 8.0, 2.3], \n",
    "    [7.0, 8.6, 9.0, 9.0, 0, 5.5, 9.1, 2.9, 8.4, 7.0, 2.1, 6.6, 9.5, 1.0, 6.8, 9.3, 3.5, 9.3, 3.0, 1.8], \n",
    "    [4.2, 2.3, 8.2, 2.0, 2.5, 0, 7.5, 7.8, 3.6, 3.9, 1.5, 2.5, 7.7, 4.7, 9.9, 5.0, 3.8, 4.9, 2.9, 1.7], \n",
    "    [3.0, 6.0, 9.5, 6.4, 3.0, 8.9, 0, 3.4, 8.3, 3.6, 7.2, 7.5, 1.3, 6.9, 2.6, 8.8, 9.9, 1.8, 3.0, 4.0], \n",
    "    [3.4, 7.3, 2.2, 3.7, 1.5, 5.5, 6.1, 0, 1.5, 8.4, 6.8, 8.6, 9.7, 1.1, 4.8, 9.9, 2.6, 7.3, 6.5, 7.4], \n",
    "    [6.0, 2.0, 8.0, 9.0, 7.7, 3.0, 3.5, 3.3, 0, 8.0, 8.8, 9.4, 9.8, 5.2, 2.8, 3.6, 8.3, 1.9, 4.8, 7.0], \n",
    "    [3.4, 2.2, 9.3, 9.9, 7.1, 3.3, 5.5, 4.6, 7.0, 0, 6.3, 9.4, 8.2, 1.0, 2.2, 3.3, 2.4, 5.5, 5.7, 9.3], \n",
    "    [6.8, 5.5, 5.3, 6.6, 7.9, 7.8, 3.1, 7.4, 9.8, 3.8, 0, 6.5, 9.6, 7.7, 9.3, 7.3, 5.0, 1.5, 1.6, 9.9], \n",
    "    [5.2, 6.2, 1.4, 8.3, 4.1, 7.9, 9.1, 4.4, 5.1, 1.3, 9.1, 0, 9.1, 1.9, 3.6, 1.9, 2.8, 6.8, 3.4, 7.0], \n",
    "    [7.0, 7.0, 5.8, 8.6, 6.9, 8.8, 6.0, 5.9, 8.6, 6.5, 6.5, 7.5, 0, 6.7, 6.4, 8.3, 1.8, 8.9, 5.3, 8.1], \n",
    "    [3.0, 8.0, 1.0, 5.5, 1.8, 9.5, 7.4, 2.8, 3.5, 9.4, 6.7, 3.6, 8.2, 0, 8.5, 6.5, 2.7, 9.2, 3.4, 7.9], \n",
    "    [2.7, 5.3, 7.7, 2.5, 4.8, 3.8, 9.2, 5.1, 8.3, 7.6, 6.2, 5.7, 2.3, 9.8, 0, 4.9, 7.3, 7.6, 2.3, 9.3], \n",
    "    [5.7, 7.1, 2.3, 9.2, 3.2, 8.5, 6.7, 1.6, 2.2, 1.6, 7.6, 5.2, 5.6, 8.2, 9.9, 0, 4.9, 7.9, 3.9, 4.5], \n",
    "    [6.0, 6.0, 5.0, 4.4, 4.7, 6.7, 7.8, 4.5, 2.2, 4.0, 4.0, 6.1, 3.2, 6.5, 7.7, 8.0, 0, 6.4, 4.2, 7.4], \n",
    "    [7.3, 7.7, 2.7, 9.7, 6.7, 2.9, 8.8, 8.5, 6.2, 2.3, 6.9, 8.6, 9.5, 2.6, 4.0, 1.2, 9.5, 0, 3.5, 3.3], \n",
    "    [8.3, 5.2, 6.8, 6.4, 9.1, 1.1, 5.0, 7.5, 5.4, 3.5, 2.6, 1.8, 7.2, 8.5, 2.7, 3.1, 4.8, 4.7, 0, 8.6], \n",
    "    [6.2, 1.0, 1.4, 1.7, 5.2, 1.6, 6.7, 7.0, 2.2, 4.3, 5.6, 6.1, 1.9, 2.6, 9.6, 7.0, 5.2, 6.7, 3.5, 0]]\n",
    "\n",
    "\n",
    "taille_population = 1000\n",
    "nb_villes = len(villes)\n",
    "\n",
    "chances_croisement = 65  #chance de crossover en % \n",
    "chance_mutation = 5   #chance de mutation en %\n",
    "pression_evolutive = 60     #pression de selection 50 = pas de pression, 99 = pression total\n",
    "nombre_generations = 100   #nombre constant de génération\n",
    "\n",
    "population = generer_population(taille_population, nb_villes)\n",
    "\n",
    "meilleur = population[0]\n",
    "meilleur = meilleur_individu(population, meilleur)\n",
    "\n",
    "print(\"fitness:\", fitness(meilleur), \":\", meilleur)\n",
    "\n",
    "#Nouvelles générations et recherche du meilleur individu\n",
    "generation_count = 1\n",
    "while(generation_count <= nombre_generations):\n",
    "    population = getNewPop(population)\n",
    "    meilleur = meilleur_individu(population, meilleur)\n",
    "    generation_count += 1 \n",
    "\n",
    "print(\"fitness:\", fitness(meilleur), \":\",meilleur)\n",
    "\n",
    "print(\"Un bon itinéraire pour minimiser la distance parcourue serait : \", end= ' ')\n",
    "for i in range(nb_villes):\n",
    "    print(meilleur[i], '->', end=' ')\n",
    "print(meilleur[0])\n",
    "\n"
   ]
  },
  {
   "cell_type": "code",
   "execution_count": 13,
   "metadata": {},
   "outputs": [],
   "source": [
    "import random\n",
    "import math\n",
    "\n",
    "def truncate(number, decimals=0):\n",
    "    \"\"\"\n",
    "    Returns a value truncated to a specific number of decimal places.\n",
    "    \"\"\"\n",
    "    if not isinstance(decimals, int):\n",
    "        raise TypeError(\"decimal places must be an integer.\")\n",
    "    elif decimals < 0:\n",
    "        raise ValueError(\"decimal places has to be 0 or more.\")\n",
    "    elif decimals == 0:\n",
    "        return math.trunc(number)\n",
    "\n",
    "    factor = 10.0 ** decimals\n",
    "    return math.trunc(number * factor) / factor\n",
    "\n",
    "n = 20\n",
    "temps_stations = [[truncate(random.uniform(1, 10),1) for i in range(n)] for i in range(n) ]"
   ]
  },
  {
   "cell_type": "code",
   "execution_count": 21,
   "metadata": {},
   "outputs": [
    {
     "name": "stdout",
     "output_type": "stream",
     "text": [
      "temps_stations =  [[0, 6.7, 7.3, 2.5, 2.9, 1.5, 6.8, 8.4, 2.9, 4.0, 9.0, 9.4, 9.7, 1.0, 1.8, 5.9, 2.7, 8.7, 3.9, 7.1], [1.8, 0, 5.1, 4.5, 5.0, 8.0, 9.2, 9.8, 5.9, 4.7, 6.3, 4.4, 9.2, 6.2, 3.6, 3.7, 4.8, 6.7, 3.6, 8.3], [2.2, 7.0, 0, 9.4, 5.7, 9.4, 5.9, 6.4, 2.8, 4.1, 9.0, 8.9, 8.2, 8.4, 6.8, 2.9, 1.0, 7.7, 5.6, 6.6], [8.9, 5.2, 1.9, 0, 8.6, 6.8, 1.2, 2.3, 9.2, 7.2, 8.9, 4.5, 9.2, 8.1, 6.2, 9.4, 7.1, 6.7, 8.0, 2.3], [7.0, 8.6, 9.0, 9.0, 0, 5.5, 9.1, 2.9, 8.4, 7.0, 2.1, 6.6, 9.5, 1.0, 6.8, 9.3, 3.5, 9.3, 3.0, 1.8], [4.2, 2.3, 8.2, 2.0, 2.5, 0, 7.5, 7.8, 3.6, 3.9, 1.5, 2.5, 7.7, 4.7, 9.9, 5.0, 3.8, 4.9, 2.9, 1.7], [3.0, 6.0, 9.5, 6.4, 3.0, 8.9, 0, 3.4, 8.3, 3.6, 7.2, 7.5, 1.3, 6.9, 2.6, 8.8, 9.9, 1.8, 3.0, 4.0], [3.4, 7.3, 2.2, 3.7, 1.5, 5.5, 6.1, 0, 1.5, 8.4, 6.8, 8.6, 9.7, 1.1, 4.8, 9.9, 2.6, 7.3, 6.5, 7.4], [6.0, 2.0, 8.0, 9.0, 7.7, 3.0, 3.5, 3.3, 0, 8.0, 8.8, 9.4, 9.8, 5.2, 2.8, 3.6, 8.3, 1.9, 4.8, 7.0], [3.4, 2.2, 9.3, 9.9, 7.1, 3.3, 5.5, 4.6, 7.0, 0, 6.3, 9.4, 8.2, 1.0, 2.2, 3.3, 2.4, 5.5, 5.7, 9.3], [6.8, 5.5, 5.3, 6.6, 7.9, 7.8, 3.1, 7.4, 9.8, 3.8, 0, 6.5, 9.6, 7.7, 9.3, 7.3, 5.0, 1.5, 1.6, 9.9], [5.2, 6.2, 1.4, 8.3, 4.1, 7.9, 9.1, 4.4, 5.1, 1.3, 9.1, 0, 9.1, 1.9, 3.6, 1.9, 2.8, 6.8, 3.4, 7.0], [7.0, 7.0, 5.8, 8.6, 6.9, 8.8, 6.0, 5.9, 8.6, 6.5, 6.5, 7.5, 0, 6.7, 6.4, 8.3, 1.8, 8.9, 5.3, 8.1], [3.0, 8.0, 1.0, 5.5, 1.8, 9.5, 7.4, 2.8, 3.5, 9.4, 6.7, 3.6, 8.2, 0, 8.5, 6.5, 2.7, 9.2, 3.4, 7.9], [2.7, 5.3, 7.7, 2.5, 4.8, 3.8, 9.2, 5.1, 8.3, 7.6, 6.2, 5.7, 2.3, 9.8, 0, 4.9, 7.3, 7.6, 2.3, 9.3], [5.7, 7.1, 2.3, 9.2, 3.2, 8.5, 6.7, 1.6, 2.2, 1.6, 7.6, 5.2, 5.6, 8.2, 9.9, 0, 4.9, 7.9, 3.9, 4.5], [6.0, 6.0, 5.0, 4.4, 4.7, 6.7, 7.8, 4.5, 2.2, 4.0, 4.0, 6.1, 3.2, 6.5, 7.7, 8.0, 0, 6.4, 4.2, 7.4], [7.3, 7.7, 2.7, 9.7, 6.7, 2.9, 8.8, 8.5, 6.2, 2.3, 6.9, 8.6, 9.5, 2.6, 4.0, 1.2, 9.5, 0, 3.5, 3.3], [8.3, 5.2, 6.8, 6.4, 9.1, 1.1, 5.0, 7.5, 5.4, 3.5, 2.6, 1.8, 7.2, 8.5, 2.7, 3.1, 4.8, 4.7, 0, 8.6], [6.2, 1.0, 1.4, 1.7, 5.2, 1.6, 6.7, 7.0, 2.2, 4.3, 5.6, 6.1, 1.9, 2.6, 9.6, 7.0, 5.2, 6.7, 3.5, 0]]\n"
     ]
    }
   ],
   "source": [
    "print(\"temps_stations = \",temps_stations)"
   ]
  },
  {
   "cell_type": "code",
   "execution_count": 19,
   "metadata": {},
   "outputs": [],
   "source": [
    "for i in range(20):\n",
    "    for j in range(20):\n",
    "        if i ==j:\n",
    "            temps_stations[i][j] = 0"
   ]
  },
  {
   "cell_type": "code",
   "execution_count": 23,
   "metadata": {},
   "outputs": [],
   "source": [
    "stations = []\n",
    "for i in \"ABCDEFGHIJKLMNOPQRST\":\n",
    "    stations.append(i)"
   ]
  },
  {
   "cell_type": "code",
   "execution_count": 25,
   "metadata": {},
   "outputs": [
    {
     "name": "stdout",
     "output_type": "stream",
     "text": [
      "stations =  ['A', 'B', 'C', 'D', 'E', 'F', 'G', 'H', 'I', 'J', 'K', 'L', 'M', 'N', 'O', 'P', 'Q', 'R', 'S', 'T']\n"
     ]
    }
   ],
   "source": [
    "print(\"stations = \", stations)"
   ]
  },
  {
   "cell_type": "code",
   "execution_count": 27,
   "metadata": {},
   "outputs": [
    {
     "name": "stdout",
     "output_type": "stream",
     "text": [
      "I = {'A': 0, 'B': 1, 'C': 2, 'D': 3, 'E': 4, 'F': 5, 'G': 6, 'H': 7, 'I': 8, 'J': 9, 'K': 10, 'L': 11, 'M': 12, 'N': 13, 'O': 14, 'P': 15, 'Q': 16, 'R': 17, 'S': 18, 'T': 19}\n"
     ]
    }
   ],
   "source": [
    "I = {}\n",
    "indi = 0\n",
    "for i in stations:\n",
    "    I[i] = indi\n",
    "    indi+=1\n",
    "    \n",
    "print(\"I =\", I)"
   ]
  },
  {
   "cell_type": "code",
   "execution_count": 29,
   "metadata": {},
   "outputs": [
    {
     "name": "stdout",
     "output_type": "stream",
     "text": [
      "0\n"
     ]
    }
   ],
   "source": [
    "print(random.randint(0, 1))"
   ]
  },
  {
   "cell_type": "code",
   "execution_count": null,
   "metadata": {},
   "outputs": [],
   "source": []
  }
 ],
 "metadata": {
  "kernelspec": {
   "display_name": "Python 3",
   "language": "python",
   "name": "python3"
  },
  "language_info": {
   "codemirror_mode": {
    "name": "ipython",
    "version": 3
   },
   "file_extension": ".py",
   "mimetype": "text/x-python",
   "name": "python",
   "nbconvert_exporter": "python",
   "pygments_lexer": "ipython3",
   "version": "3.7.6"
  }
 },
 "nbformat": 4,
 "nbformat_minor": 4
}
